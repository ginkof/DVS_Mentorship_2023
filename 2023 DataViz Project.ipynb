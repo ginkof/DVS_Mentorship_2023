{
 "cells": [
  {
   "cell_type": "code",
   "execution_count": 1,
   "id": "3c020f7f",
   "metadata": {},
   "outputs": [],
   "source": [
    "import pandas as pd"
   ]
  },
  {
   "cell_type": "code",
   "execution_count": 2,
   "id": "ee56d3af",
   "metadata": {},
   "outputs": [],
   "source": [
    "#spreadsheet = pd.read_csv('/Users/G/Montorship dataset Meteorology/1.csv')"
   ]
  },
  {
   "cell_type": "code",
   "execution_count": 3,
   "id": "3f90e448",
   "metadata": {},
   "outputs": [],
   "source": [
    "#df = []\n",
    "#for i in range(1,3):\n",
    "#    df.append(pd.read_csv(f'/Users/G/Montorship dataset Meteorology/{i}.csv'))"
   ]
  },
  {
   "cell_type": "code",
   "execution_count": 4,
   "id": "f9b4aced",
   "metadata": {
    "scrolled": true
   },
   "outputs": [],
   "source": [
    "#Importing data\n",
    "#We have 40 folders 'YYYY' (years 1980-2019)\n",
    "#Each folder contains a 365*24 datasets with name 'YYYY_MM_DD_HH_UTC_County_Mean_Meteorology.csv'\n",
    "\n",
    "#For simplicity we ignore leap years\n",
    "\n",
    "YYYY= []\n",
    "for year in range(1980,2020):\n",
    "    YYYY.append(str(year))\n",
    "\n",
    "DD= [\n",
    "    '01','02','03','04','05','06','07','08','09','10',\n",
    "    '11','12','13','14','15','16','17','18','19','20',\n",
    "    '21','22','23','24','25','26','27','28','29','30',\n",
    "    '31'\n",
    "]\n",
    "\n",
    "#We introduce a dictionary month-days\n",
    "MM= {'01':DD,\n",
    "     '02':DD[0:28],\n",
    "     '03':DD,\n",
    "     '04':DD[0:30],\n",
    "     '05':DD,\n",
    "     '06':DD[0:30],\n",
    "     '07':DD,\n",
    "     '08':DD,\n",
    "     '09':DD[0:30],\n",
    "     '10':DD,\n",
    "     '11':DD[0:30],\n",
    "     '12':DD    \n",
    "}\n",
    "\n",
    "#We finally introduce a list of hours\n",
    "HH= [\n",
    "    '01','02','03','04','05','06','07','08','09','10',\n",
    "    '11','12','13','14','15','16','17','18','19','20',\n",
    "    '21','22','23'\n",
    "]"
   ]
  },
  {
   "cell_type": "code",
   "execution_count": 5,
   "id": "e2247480",
   "metadata": {},
   "outputs": [
    {
     "name": "stdout",
     "output_type": "stream",
     "text": [
      "/Users/G/Mentorship_dataset_Meteorology/historic/1980/1980_01_01_01_UTC_County_Mean_Meteorology.csv\n"
     ]
    }
   ],
   "source": [
    "names = []\n",
    "\n",
    "for year in YYYY:\n",
    "    for month in list(MM.keys()):\n",
    "        for day in list(MM[month]):\n",
    "            for hour in HH:\n",
    "                names.append(f'/Users/G/Mentorship_dataset_Meteorology/historic/{year}/{year}_{month}_{day}_{hour}_UTC_County_Mean_Meteorology.csv')\n",
    "print(names[0])"
   ]
  },
  {
   "cell_type": "code",
   "execution_count": 6,
   "id": "105d7450",
   "metadata": {},
   "outputs": [],
   "source": [
    "df_list = []\n",
    "for year in YYYY:\n",
    "    for month in list(MM.keys()):\n",
    "        for day in list(MM[month]):\n",
    "            for hour in HH:\n",
    "                # leggi il file CSV in un nuovo DataFrame\n",
    "                df = pd.read_csv(f'/Users/G/Mentorship_dataset_Meteorology/historic/{year}/{year}_{month}_{day}_{hour}_UTC_County_Mean_Meteorology.csv')\n",
    "                # crea un nuovo DataFrame che contiene solo le colonne che ti interessano\n",
    "                new_df = pd.DataFrame({\n",
    "                    \"date\": [f\"{year}-{month}-{day}-{hour}\"] * len(df),\n",
    "                    \"year\": [f\"{year}\"] * len(df),\n",
    "                    \"month\": [f\"{month}\"] * len(df),\n",
    "                    \"T2\": df[\"T2\"],\n",
    "                    \"Q2\": df[\"Q2\"],\n",
    "                    \"U10\": df[\"U10\"],\n",
    "                    \"V10\": df[\"V10\"],\n",
    "                    \"SWDOWN\": df[\"SWDOWN\"],\n",
    "                    \"GLW\": df[\"GLW\"]\n",
    "                })\n",
    "                # aggiungi il nuovo DataFrame alla lista\n",
    "                df_list.append(new_df)"
   ]
  },
  {
   "cell_type": "code",
   "execution_count": 7,
   "id": "2226a2f7",
   "metadata": {},
   "outputs": [],
   "source": [
    "#df = []\n",
    "#for year in YYYY:\n",
    "#    for month in list(MM.keys()):\n",
    "#        for day in list(MM[month]):\n",
    "#            for hour in HH:\n",
    "#                df.append(pd.read_csv(f'/Users/G/Mentorship_dataset_Meteorology/historic/{year}/{year}_{month}_{day}_{hour}_UTC_County_Mean_Meteorology.csv'))"
   ]
  },
  {
   "cell_type": "code",
   "execution_count": 8,
   "id": "cc5fdd2e",
   "metadata": {},
   "outputs": [],
   "source": [
    "#These are 40*365*24 data frames\n",
    "#We now average over the locations (FIPS) and create new dfs with columns T and Q"
   ]
  },
  {
   "cell_type": "code",
   "execution_count": 9,
   "id": "447cf2e4",
   "metadata": {},
   "outputs": [],
   "source": [
    "# Every dataset is specific of a single hour\n",
    "# Our goal is obtain datasets for months -> We have to make averages\n",
    "# Firs we would like to glue all the datasets in a single one\n",
    "\n",
    "#big_df = pd.concat(df_list).reset_index()\n",
    "\n",
    "#concatenating all the dframes makes python's kernel die\n",
    "#Let's try do this gradually\n",
    "\n",
    "#An idea is reducing the size of each data frame by taking the average over the df, i.e. the average over the locations (FIPS)\n",
    "\n",
    "newlist_df= []\n",
    "for i in range(0,len(df_list)):\n",
    "    newlist_df.append(df_list[i].groupby(by=[\"date\",\"month\"]).agg(T=(\"T2\",\"mean\"),Q=(\"Q2\",\"mean\")).reset_index())"
   ]
  },
  {
   "cell_type": "code",
   "execution_count": 10,
   "id": "5fbdb605",
   "metadata": {},
   "outputs": [],
   "source": [
    "#Then we try to concatdnate the new datasets\n",
    "final_df= pd.concat(newlist_df).reset_index()"
   ]
  },
  {
   "cell_type": "code",
   "execution_count": 11,
   "id": "6fa47b1e",
   "metadata": {},
   "outputs": [
    {
     "data": {
      "text/html": [
       "<div>\n",
       "<style scoped>\n",
       "    .dataframe tbody tr th:only-of-type {\n",
       "        vertical-align: middle;\n",
       "    }\n",
       "\n",
       "    .dataframe tbody tr th {\n",
       "        vertical-align: top;\n",
       "    }\n",
       "\n",
       "    .dataframe thead th {\n",
       "        text-align: right;\n",
       "    }\n",
       "</style>\n",
       "<table border=\"1\" class=\"dataframe\">\n",
       "  <thead>\n",
       "    <tr style=\"text-align: right;\">\n",
       "      <th></th>\n",
       "      <th>date</th>\n",
       "      <th>month</th>\n",
       "      <th>T</th>\n",
       "      <th>Q</th>\n",
       "    </tr>\n",
       "  </thead>\n",
       "  <tbody>\n",
       "    <tr>\n",
       "      <th>0</th>\n",
       "      <td>1980-01-01-01</td>\n",
       "      <td>01</td>\n",
       "      <td>274.171271</td>\n",
       "      <td>0.003482</td>\n",
       "    </tr>\n",
       "  </tbody>\n",
       "</table>\n",
       "</div>"
      ],
      "text/plain": [
       "            date month           T         Q\n",
       "0  1980-01-01-01    01  274.171271  0.003482"
      ]
     },
     "execution_count": 11,
     "metadata": {},
     "output_type": "execute_result"
    }
   ],
   "source": [
    "df_list[0].groupby(by=[\"date\",\"month\"]).agg(T=(\"T2\",\"mean\"),Q=(\"Q2\",\"mean\")).reset_index()"
   ]
  },
  {
   "cell_type": "code",
   "execution_count": 15,
   "id": "67e05e72",
   "metadata": {},
   "outputs": [],
   "source": [
    "final_df= pd.concat(newlist_df).reset_index()"
   ]
  },
  {
   "cell_type": "code",
   "execution_count": 16,
   "id": "2fe83eaa",
   "metadata": {
    "scrolled": true
   },
   "outputs": [
    {
     "data": {
      "text/html": [
       "<div>\n",
       "<style scoped>\n",
       "    .dataframe tbody tr th:only-of-type {\n",
       "        vertical-align: middle;\n",
       "    }\n",
       "\n",
       "    .dataframe tbody tr th {\n",
       "        vertical-align: top;\n",
       "    }\n",
       "\n",
       "    .dataframe thead th {\n",
       "        text-align: right;\n",
       "    }\n",
       "</style>\n",
       "<table border=\"1\" class=\"dataframe\">\n",
       "  <thead>\n",
       "    <tr style=\"text-align: right;\">\n",
       "      <th></th>\n",
       "      <th>index</th>\n",
       "      <th>date</th>\n",
       "      <th>month</th>\n",
       "      <th>T</th>\n",
       "      <th>Q</th>\n",
       "    </tr>\n",
       "  </thead>\n",
       "  <tbody>\n",
       "    <tr>\n",
       "      <th>0</th>\n",
       "      <td>0</td>\n",
       "      <td>1980-01-01-01</td>\n",
       "      <td>01</td>\n",
       "      <td>274.171271</td>\n",
       "      <td>0.003482</td>\n",
       "    </tr>\n",
       "    <tr>\n",
       "      <th>1</th>\n",
       "      <td>0</td>\n",
       "      <td>1980-01-01-02</td>\n",
       "      <td>01</td>\n",
       "      <td>273.727671</td>\n",
       "      <td>0.003432</td>\n",
       "    </tr>\n",
       "    <tr>\n",
       "      <th>2</th>\n",
       "      <td>0</td>\n",
       "      <td>1980-01-01-03</td>\n",
       "      <td>01</td>\n",
       "      <td>273.328044</td>\n",
       "      <td>0.003386</td>\n",
       "    </tr>\n",
       "    <tr>\n",
       "      <th>3</th>\n",
       "      <td>0</td>\n",
       "      <td>1980-01-01-04</td>\n",
       "      <td>01</td>\n",
       "      <td>272.976023</td>\n",
       "      <td>0.003344</td>\n",
       "    </tr>\n",
       "    <tr>\n",
       "      <th>4</th>\n",
       "      <td>0</td>\n",
       "      <td>1980-01-01-05</td>\n",
       "      <td>01</td>\n",
       "      <td>272.642860</td>\n",
       "      <td>0.003305</td>\n",
       "    </tr>\n",
       "    <tr>\n",
       "      <th>...</th>\n",
       "      <td>...</td>\n",
       "      <td>...</td>\n",
       "      <td>...</td>\n",
       "      <td>...</td>\n",
       "      <td>...</td>\n",
       "    </tr>\n",
       "    <tr>\n",
       "      <th>335795</th>\n",
       "      <td>0</td>\n",
       "      <td>2019-12-31-19</td>\n",
       "      <td>12</td>\n",
       "      <td>276.668378</td>\n",
       "      <td>0.002874</td>\n",
       "    </tr>\n",
       "    <tr>\n",
       "      <th>335796</th>\n",
       "      <td>0</td>\n",
       "      <td>2019-12-31-20</td>\n",
       "      <td>12</td>\n",
       "      <td>276.973932</td>\n",
       "      <td>0.002919</td>\n",
       "    </tr>\n",
       "    <tr>\n",
       "      <th>335797</th>\n",
       "      <td>0</td>\n",
       "      <td>2019-12-31-21</td>\n",
       "      <td>12</td>\n",
       "      <td>276.896647</td>\n",
       "      <td>0.002957</td>\n",
       "    </tr>\n",
       "    <tr>\n",
       "      <th>335798</th>\n",
       "      <td>0</td>\n",
       "      <td>2019-12-31-22</td>\n",
       "      <td>12</td>\n",
       "      <td>276.094791</td>\n",
       "      <td>0.002979</td>\n",
       "    </tr>\n",
       "    <tr>\n",
       "      <th>335799</th>\n",
       "      <td>0</td>\n",
       "      <td>2019-12-31-23</td>\n",
       "      <td>12</td>\n",
       "      <td>274.717194</td>\n",
       "      <td>0.002955</td>\n",
       "    </tr>\n",
       "  </tbody>\n",
       "</table>\n",
       "<p>335800 rows × 5 columns</p>\n",
       "</div>"
      ],
      "text/plain": [
       "        index           date month           T         Q\n",
       "0           0  1980-01-01-01    01  274.171271  0.003482\n",
       "1           0  1980-01-01-02    01  273.727671  0.003432\n",
       "2           0  1980-01-01-03    01  273.328044  0.003386\n",
       "3           0  1980-01-01-04    01  272.976023  0.003344\n",
       "4           0  1980-01-01-05    01  272.642860  0.003305\n",
       "...       ...            ...   ...         ...       ...\n",
       "335795      0  2019-12-31-19    12  276.668378  0.002874\n",
       "335796      0  2019-12-31-20    12  276.973932  0.002919\n",
       "335797      0  2019-12-31-21    12  276.896647  0.002957\n",
       "335798      0  2019-12-31-22    12  276.094791  0.002979\n",
       "335799      0  2019-12-31-23    12  274.717194  0.002955\n",
       "\n",
       "[335800 rows x 5 columns]"
      ]
     },
     "execution_count": 16,
     "metadata": {},
     "output_type": "execute_result"
    }
   ],
   "source": [
    "final_df"
   ]
  },
  {
   "cell_type": "code",
   "execution_count": 17,
   "id": "df82c961",
   "metadata": {},
   "outputs": [],
   "source": [
    "#We then export this df\n",
    "final_df.to_csv('historical.csv')"
   ]
  },
  {
   "cell_type": "code",
   "execution_count": 22,
   "id": "8666f74a",
   "metadata": {},
   "outputs": [],
   "source": [
    "final_df.groupby(by=\"date\").agg({\"T\":\"mean\",\"Q\":\"mean\"}).to_csv('averaged.csv')\n",
    "df_averaged=final_df.groupby(by=\"date\").agg({\"T\":\"mean\",\"Q\":\"mean\"}).copy()"
   ]
  },
  {
   "cell_type": "code",
   "execution_count": 25,
   "id": "36395b39",
   "metadata": {},
   "outputs": [
    {
     "data": {
      "text/plain": [
       "<AxesSubplot:title={'center':'T'}, xlabel='date'>"
      ]
     },
     "execution_count": 25,
     "metadata": {},
     "output_type": "execute_result"
    },
    {
     "data": {
      "image/png": "[encoded data removed]",
      "text/plain": [
       "<Figure size 800x300 with 1 Axes>"
      ]
     },
     "metadata": {},
     "output_type": "display_data"
    }
   ],
   "source": [
    "df_averaged[[\"T\"]].plot.line(figsize=(8,3), color=\"teal\",title=\"T\")"
   ]
  }
 ],
 "metadata": {
  "kernelspec": {
   "display_name": "Python 3 (ipykernel)",
   "language": "python",
   "name": "python3"
  },
  "language_info": {
   "codemirror_mode": {
    "name": "ipython",
    "version": 3
   },
   "file_extension": ".py",
   "mimetype": "text/x-python",
   "name": "python",
   "nbconvert_exporter": "python",
   "pygments_lexer": "ipython3",
   "version": "3.9.13"
  }
 },
 "nbformat": 4,
 "nbformat_minor": 5
}
